{
 "cells": [
  {
   "cell_type": "markdown",
   "metadata": {},
   "source": [
    "# Ch 2 Exercises (Applied)\n",
    "\n",
    "This notebook file is intended to be the exercises included in Chapter 2."
   ]
  },
  {
   "cell_type": "markdown",
   "metadata": {},
   "source": [
    "## Import necessary libraries"
   ]
  },
  {
   "cell_type": "code",
   "execution_count": 1,
   "metadata": {},
   "outputs": [],
   "source": [
    "import pandas as pd\n",
    "from ISLP import load_data"
   ]
  },
  {
   "cell_type": "markdown",
   "metadata": {},
   "source": [
    "### Problem Number 8\n",
    "Uses `College` dataset in `College.csv`"
   ]
  },
  {
   "cell_type": "markdown",
   "metadata": {},
   "source": [
    "From the problem statement, the variables are defined as: \n",
    "\n",
    "• Private : Public/private indicator\n",
    "\n",
    "• Apps : Number of applications received\n",
    "\n",
    "• Accept : Number of applicants accepted\n",
    "\n",
    "• Enroll : Number of new students enrolled\n",
    "\n",
    "• Top10perc : New students from top 10 % of high school class\n",
    "\n",
    "• Top25perc : New students from top 25 % of high school class\n",
    "\n",
    "• F.Undergrad : Number of full-time undergraduates\n",
    "\n",
    "• P.Undergrad : Number of part-time undergraduates\n",
    "\n",
    "• Outstate : Out-of-state tuition\n",
    "\n",
    "• Room.Board : Room and board costs\n",
    "\n",
    "• Books : Estimated book costs\n",
    "\n",
    "• Personal : Estimated personal spending\n",
    "\n",
    "• PhD : Percent of faculty with Ph.D.’s\n",
    "\n",
    "• Terminal : Percent of faculty with terminal degree\n",
    "\n",
    "• S.F.Ratio : Student/faculty ratio\n",
    "\n",
    "• perc.alumni : Percent of alumni who donate\n",
    "\n",
    "• Expend : Instructional expenditure per student\n",
    "\n",
    "• Grad.Rate : Graduation rate"
   ]
  },
  {
   "cell_type": "markdown",
   "metadata": {},
   "source": [
    "(a) Use the `pd.read_csv()` function to read the data into a Pandas DataFrame. Call the\n",
    "loaded data college. Make sure that you have the directory set\n",
    "to the correct location for the data.\n"
   ]
  },
  {
   "cell_type": "code",
   "execution_count": null,
   "metadata": {},
   "outputs": [],
   "source": [
    "# code here"
   ]
  },
  {
   "cell_type": "markdown",
   "metadata": {},
   "source": [
    "(b) Look at the data by calling the `college` variable. In a notebook, you do not need to do `print()`, or `college.head()`. You should notice\n",
    "that the first column is just the name of each university. We don’t\n",
    "really want Pandas to treat this as data. However, it may be handy to\n",
    "have these names for later. Try the following commands:"
   ]
  },
  {
   "cell_type": "code",
   "execution_count": null,
   "metadata": {},
   "outputs": [],
   "source": [
    "college2 = pd.read_csv('College.csv', index_col=0)"
   ]
  },
  {
   "cell_type": "code",
   "execution_count": null,
   "metadata": {},
   "outputs": [],
   "source": [
    "college3 = college.rename({'Unnamed: 0': 'College'},\n",
    "axis=1)\n",
    "college3 = college3.set_index('College')"
   ]
  },
  {
   "cell_type": "markdown",
   "metadata": {},
   "source": [
    "This has used the first column in the file as an index for the\n",
    "data frame. This means that pandas has given each row a name\n",
    "corresponding to the appropriate university. Now you should see\n",
    "that the first data column is Private. Note that the names of\n",
    "the colleges appear on the left of the table. We also introduced\n",
    "a new python object above: a dictionary, which is specified by `(key, value)` pairs. Keep your modified version of the data with the following:"
   ]
  },
  {
   "cell_type": "code",
   "execution_count": null,
   "metadata": {},
   "outputs": [],
   "source": [
    "college = college3\n",
    "college"
   ]
  },
  {
   "cell_type": "markdown",
   "metadata": {},
   "source": [
    "(c) Use the `describe()` function to produce a numerical summary\n",
    "of the variables in the data set."
   ]
  },
  {
   "cell_type": "code",
   "execution_count": null,
   "metadata": {},
   "outputs": [],
   "source": [
    "# code here\n"
   ]
  },
  {
   "cell_type": "markdown",
   "metadata": {},
   "source": [
    "(d) Use the `pd.plotting.scatter_matrix()` function to produce a scatterplot matrix of the first ten columns or variables of the data. Recall that\n",
    "you can reference the first ten columns of a matrix A using\n",
    "`A.iloc[1:10]`.\n",
    "\n",
    "Or a list `C` of columns of a DataFrame `A` using `A[C]`."
   ]
  },
  {
   "cell_type": "code",
   "execution_count": null,
   "metadata": {},
   "outputs": [],
   "source": [
    "# code here\n"
   ]
  },
  {
   "cell_type": "markdown",
   "metadata": {},
   "source": [
    "(e) iii. Use the `df.boxplot()` function to produce side-by-side boxplots of\n",
    "`Outstate` versus `Private`."
   ]
  },
  {
   "cell_type": "code",
   "execution_count": null,
   "metadata": {},
   "outputs": [],
   "source": [
    "# code here\n"
   ]
  },
  {
   "cell_type": "markdown",
   "metadata": {},
   "source": [
    "(f) Create a new qualitative variable, called `Elite`, by binning the `Top10perc` variable. We are going to divide universities into two groups based on whether or not the proportion of students coming from the top 10% of their high school classes exceeds 50%.\n",
    "\n",
    "```college['Elite'] = pd.cut(college['Top10perc'],\n",
    "[0,0.5,1],\n",
    "labels=['No', 'Yes'])```\n",
    "\n",
    "Use the `value_counts()` method of `college['Elite']` to see how many elite universities there are. Finally use the `boxplot()` method to produce\n",
    "side-by-side boxplots of `Outstate` versus `Elite`."
   ]
  },
  {
   "cell_type": "code",
   "execution_count": null,
   "metadata": {},
   "outputs": [],
   "source": [
    "# code here\n"
   ]
  },
  {
   "cell_type": "markdown",
   "metadata": {},
   "source": [
    "(g) Use the `plot.hist()` function to produce some histograms with\n",
    "differing numbers of bins for a few of the quantitative variables. \n",
    "\n",
    "The command plt.subplots(2, 2) may be useful:\n",
    "it will divide the plot window into four regions so that four\n",
    "plots can be made simultaneously. By changing the arguments\n",
    "you can divide the screen up in other combinations."
   ]
  },
  {
   "cell_type": "code",
   "execution_count": null,
   "metadata": {},
   "outputs": [],
   "source": [
    "# code here\n"
   ]
  },
  {
   "cell_type": "markdown",
   "metadata": {},
   "source": [
    "(h) Continue exploring the data, and provide a brief summary\n",
    "of what you discover."
   ]
  },
  {
   "cell_type": "code",
   "execution_count": null,
   "metadata": {},
   "outputs": [],
   "source": [
    "# code here\n"
   ]
  },
  {
   "cell_type": "markdown",
   "metadata": {},
   "source": [
    "---"
   ]
  },
  {
   "cell_type": "markdown",
   "metadata": {},
   "source": [
    "## Problem Number 9\n",
    "Uses `Auto` dataset from lab, make sure that the missing values have been removed from the data"
   ]
  },
  {
   "cell_type": "markdown",
   "metadata": {},
   "source": [
    "(a) Which of the predictors are quantitative, and which are qualitative?"
   ]
  },
  {
   "cell_type": "markdown",
   "metadata": {},
   "source": [
    "This isn't code per se, just notes:\n",
    "\n",
    "Quantitative:\n",
    "1. \n",
    "\n",
    "Qualitative:\n",
    "1.\n"
   ]
  },
  {
   "cell_type": "markdown",
   "metadata": {},
   "source": [
    "(b) What is the range of each quantitative predictor? You can answer this using the `describe()` function. Or by using the `min()` and `max()` functions."
   ]
  },
  {
   "cell_type": "code",
   "execution_count": null,
   "metadata": {},
   "outputs": [],
   "source": [
    "# code here\n"
   ]
  },
  {
   "cell_type": "markdown",
   "metadata": {},
   "source": [
    "(c) What is the mean and standard deviation of each quantitative\n",
    "predictor? This is also in `describe()` but you can use `mean()` and `std()`."
   ]
  },
  {
   "cell_type": "code",
   "execution_count": null,
   "metadata": {},
   "outputs": [],
   "source": [
    "# code here\n"
   ]
  },
  {
   "cell_type": "markdown",
   "metadata": {},
   "source": [
    "(d) Now remove the 10th through 85th observations. What is the\n",
    "range, mean, and standard deviation of each predictor in the\n",
    "subset of the data that remains?"
   ]
  },
  {
   "cell_type": "code",
   "execution_count": null,
   "metadata": {},
   "outputs": [],
   "source": [
    "# code here\n"
   ]
  },
  {
   "cell_type": "markdown",
   "metadata": {},
   "source": [
    "(e) Using the full data set, investigate the predictors graphically,\n",
    "using scatterplots or other tools of your choice. Create some plots\n",
    "highlighting the relationships among the predictors. Comment\n",
    "on your findings.\n",
    "\n"
   ]
  },
  {
   "cell_type": "code",
   "execution_count": null,
   "metadata": {},
   "outputs": [],
   "source": [
    "# code here\n"
   ]
  },
  {
   "cell_type": "markdown",
   "metadata": {},
   "source": [
    "(f) Suppose that we wish to predict gas mileage (`mpg`) on the basis\n",
    "of the other variables. Do your plots suggest that any of the\n",
    "other variables might be useful in predicting `mpg`? Justify your\n",
    "answer."
   ]
  },
  {
   "cell_type": "code",
   "execution_count": null,
   "metadata": {},
   "outputs": [],
   "source": [
    "# code here\n"
   ]
  },
  {
   "cell_type": "markdown",
   "metadata": {},
   "source": [
    "## Problem Number 10\n",
    "Uses `Boston` housing dataset"
   ]
  },
  {
   "cell_type": "markdown",
   "metadata": {},
   "source": [
    "(a) To begin, load in the `Boston` data set. The `Boston` data set is part of the `ISLR` library. "
   ]
  },
  {
   "cell_type": "code",
   "execution_count": null,
   "metadata": {},
   "outputs": [],
   "source": [
    "# code here\n",
    "# there are two ways to do it, as one can use pd.read_csv() or the ISLR library like in the Ch3 exercises\n",
    "# since they're in the Ch3 excercises, I'll include that answer here\n",
    "\n",
    "Boston = load_data(\"Boston\")\n",
    "Boston.columns"
   ]
  },
  {
   "cell_type": "markdown",
   "metadata": {},
   "source": [
    "Read about the data set:"
   ]
  },
  {
   "cell_type": "code",
   "execution_count": null,
   "metadata": {},
   "outputs": [],
   "source": [
    "Boston?\n"
   ]
  },
  {
   "cell_type": "markdown",
   "metadata": {},
   "source": [
    "(b) How many rows are in this data set? How many columns? What do the rows and columns represent?"
   ]
  },
  {
   "cell_type": "code",
   "execution_count": null,
   "metadata": {},
   "outputs": [],
   "source": [
    "# code here\n"
   ]
  },
  {
   "cell_type": "markdown",
   "metadata": {},
   "source": [
    "(c) Make some pairwise scatterplots of the predictors (columns) in this data set. Describe your findings."
   ]
  },
  {
   "cell_type": "code",
   "execution_count": null,
   "metadata": {},
   "outputs": [],
   "source": [
    "# code here\n"
   ]
  },
  {
   "cell_type": "markdown",
   "metadata": {},
   "source": [
    "(d) Are any of the predictors associated with per capita crime rate? If so, explain the relationship."
   ]
  },
  {
   "cell_type": "code",
   "execution_count": null,
   "metadata": {},
   "outputs": [],
   "source": [
    "# code here\n"
   ]
  },
  {
   "cell_type": "markdown",
   "metadata": {},
   "source": [
    "(e) Do any of the census tracts of Boston appear to have particularly high crime rates? Tax rates? Pupil-teacher ratios? Comment on the range of each predictor."
   ]
  },
  {
   "cell_type": "code",
   "execution_count": null,
   "metadata": {},
   "outputs": [],
   "source": [
    "# code here\n"
   ]
  },
  {
   "cell_type": "markdown",
   "metadata": {},
   "source": [
    "(f) How many of the census tracts in this data set bound the Charles river?"
   ]
  },
  {
   "cell_type": "code",
   "execution_count": null,
   "metadata": {},
   "outputs": [],
   "source": [
    "# code here\n"
   ]
  },
  {
   "cell_type": "markdown",
   "metadata": {},
   "source": [
    "(g) What is the median pupil-teacher ratio among the towns in this data set?"
   ]
  },
  {
   "cell_type": "code",
   "execution_count": null,
   "metadata": {},
   "outputs": [],
   "source": [
    "# code here\n"
   ]
  },
  {
   "cell_type": "markdown",
   "metadata": {},
   "source": [
    "(h) Which suburb of Boston has lowest median value of owner occupied homes? What are the values of the other predictors for that suburb, and how do those values compare to the overall ranges for those predictors? Comment on your findings."
   ]
  },
  {
   "cell_type": "code",
   "execution_count": null,
   "metadata": {},
   "outputs": [],
   "source": [
    "# code here\n"
   ]
  },
  {
   "cell_type": "markdown",
   "metadata": {},
   "source": [
    "(i) In this data set, how many suburbs average more than seven rooms per dwelling? More than eight rooms per dwelling? Comment on the census tracts that average more than eight rooms per dwelling."
   ]
  },
  {
   "cell_type": "code",
   "execution_count": null,
   "metadata": {},
   "outputs": [],
   "source": [
    "# code here\n"
   ]
  }
 ],
 "metadata": {
  "interpreter": {
   "hash": "5669dfe12a2d82aa1b3191b510b728236d6d281b189b67e61730db0cb7f185c6"
  },
  "kernelspec": {
   "display_name": "Python 3.8.12 64-bit",
   "language": "python",
   "name": "python3"
  },
  "language_info": {
   "codemirror_mode": {
    "name": "ipython",
    "version": 3
   },
   "file_extension": ".py",
   "mimetype": "text/x-python",
   "name": "python",
   "nbconvert_exporter": "python",
   "pygments_lexer": "ipython3",
   "version": "3.10.10"
  },
  "orig_nbformat": 4
 },
 "nbformat": 4,
 "nbformat_minor": 2
}
